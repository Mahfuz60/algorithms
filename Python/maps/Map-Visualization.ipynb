{
 "cells": [
  {
   "cell_type": "markdown",
   "id": "92ebcd45",
   "metadata": {},
   "source": [
    "# Where I want to live\n",
    "\n",
    "* In Bavaria (Germany)\n",
    "* Not more than 20km from a city (which has at least 100K people or a university)\n",
    "* No flooding area"
   ]
  },
  {
   "cell_type": "code",
   "execution_count": 51,
   "id": "d849177b",
   "metadata": {},
   "outputs": [],
   "source": [
    "from typing import NamedTuple, Tuple\n",
    "\n",
    "class City(NamedTuple):\n",
    "    name: str\n",
    "    loc: Tuple[float, float]\n",
    "    max_distance: float=20_000  # radius where it's interesting to live\n",
    "        \n",
    "cities = [\n",
    "    ## Bayern #######################################################################\n",
    "    # Über 100k\n",
    "    City(name=\"Munich\", loc=(48.137222222222, 11.575555555556), max_distance=25_000),\n",
    "    City(name=\"Nürnberg\", loc=(49.455555555556, 11.078611111111)),\n",
    "    City(name=\"Augsburg\", loc=(48.371666666667, 10.898333333333)),\n",
    "    City(name=\"Regensburg\", loc=(49.017222222222, 12.096944444444)),\n",
    "    City(name=\"Ingolstadt\", loc=(48.76415, 11.42434)),\n",
    "    City(name=\"Fürth\", loc=(49.4774, 10.98844)),\n",
    "    City(name=\"Würzburg\", loc=(49.794444444444, 9.9294444444444)),\n",
    "    City(name=\"Erlangen\", loc=(49.596361111111, 11.004311111111)),\n",
    "    \n",
    "    # https://de.wikipedia.org/wiki/Liste_der_Hochschulen_in_Deutschland\n",
    "    City(name=\"Bamberg\", loc=(49.891666666667, 10.891666666667)),\n",
    "    City(name=\"Bayreuth\", loc=(49.9475, 11.5775)),\n",
    "    City(name=\"Passau\", loc=(48.5733333, 13.456944)),\n",
    "\n",
    "    # Sonstiges\n",
    "    City(name=\"Garmisch-Partenkirchen\", loc=(47.493888888889, 11.105277777778)),\n",
    "    City(name=\"Rothenburg ob der Tauber\", loc=(49.3775, 10.178888888889)),\n",
    "    City(name=\"Berchtesgaden\", loc=(47.631388888889, 13.004166666667)),\n",
    "    City(name=\"Oberstdorf\", loc=(47.409722222222, 10.279166666667)),\n",
    "    ## BW #######################################################################\n",
    "    # Über 100k: https://de.wikipedia.org/wiki/Liste_der_gr%C3%B6%C3%9Ften_St%C3%A4dte_in_Baden-W%C3%BCrttemberg\n",
    "    City(name=\"Stuttgart\", loc=(48.775555555556, 9.1827777777778)),\n",
    "    City(name=\"Mannheim\", loc=(49.48776, 8.46622)),\n",
    "    City(name=\"Karlsruhe\", loc=(49.014, 8.4043)),\n",
    "    City(name=\"Freiburg im Breisgau\", loc=(47.994828, 7.849881)),\n",
    "    City(name=\"Heidelberg\", loc=(49.41032, 8.69707)),\n",
    "    City(name=\"Heilbronn\", loc=(49.141666666667, 9.2222222222222)),\n",
    "    City(name=\"Ulm\", loc=(48.400833333333, 9.9872222222222)),\n",
    "    City(name=\"Pforzheim\", loc=(48.891111111111, 8.6988888888889)),\n",
    "    City(name=\"Reutlingen\", loc=(48.483333333333, 9.2166666666667)),\n",
    "    # sonstige\n",
    "    City(name=\"Friedrichshafen\", loc=(47.654166666667, 9.4791666666667), max_distance=10_000),\n",
    "    City(name=\"Lindau\", loc=(47.545833333333, 9.6838888888889), max_distance=10_000),\n",
    "]"
   ]
  },
  {
   "cell_type": "code",
   "execution_count": 52,
   "id": "8a0ffaa1",
   "metadata": {},
   "outputs": [
    {
     "data": {
      "application/vnd.jupyter.widget-view+json": {
       "model_id": "b241d33aabe14d1dafdcd2734682f1cd",
       "version_major": 2,
       "version_minor": 0
      },
      "text/plain": [
       "Map(center=[48.8708038, 11.0972531], controls=(ZoomControl(options=['position', 'zoom_in_text', 'zoom_in_title…"
      ]
     },
     "metadata": {},
     "output_type": "display_data"
    }
   ],
   "source": [
    "from ipyleaflet import Map, Marker, basemaps, basemap_to_tiles, Circle, SearchControl\n",
    "center = (48.8708038,11.0972531)\n",
    "\n",
    "m = Map(\n",
    "    center=center,\n",
    "    zoom=8.1,\n",
    "    # basemap=basemaps.Esri.WorldImagery\n",
    "       \n",
    "       )\n",
    "m.layout.width = '100%'\n",
    "m.layout.height = '800px'\n",
    "\n",
    "m.add_control(SearchControl(\n",
    "  position=\"topleft\",\n",
    "  url='https://nominatim.openstreetmap.org/search?format=json&q={s}',\n",
    "  zoom=5,\n",
    "  marker=marker\n",
    "))\n",
    "\n",
    "# marker = Marker(location=center, draggable=True)\n",
    "# m.add_layer(marker);\n",
    "\n",
    "display(m)\n",
    "\n",
    "for city in cities:\n",
    "    circle = Circle()\n",
    "    circle.location = city.loc\n",
    "    circle.radius = city.max_distance\n",
    "    circle.color = \"green\"\n",
    "    circle.fill_color = \"green\"\n",
    "    m.add_layer(circle)"
   ]
  },
  {
   "cell_type": "code",
   "execution_count": null,
   "id": "c273e30c",
   "metadata": {},
   "outputs": [],
   "source": []
  }
 ],
 "metadata": {
  "kernelspec": {
   "display_name": "Python 3 (ipykernel)",
   "language": "python",
   "name": "python3"
  },
  "language_info": {
   "codemirror_mode": {
    "name": "ipython",
    "version": 3
   },
   "file_extension": ".py",
   "mimetype": "text/x-python",
   "name": "python",
   "nbconvert_exporter": "python",
   "pygments_lexer": "ipython3",
   "version": "3.9.1"
  }
 },
 "nbformat": 4,
 "nbformat_minor": 5
}
